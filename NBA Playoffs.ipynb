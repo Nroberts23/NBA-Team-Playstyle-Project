{
 "cells": [
  {
   "cell_type": "markdown",
   "metadata": {},
   "source": [
    "# NBA Playoffs\n",
    "\n",
    "This project uses data from `basketball-reference.com` to ask questions about NBA players, who makes it to the playoffs, and how they perform once they get there. Generally, a few questions to consider looking into are:\n",
    "\n",
    "* Which people over/under-perform in the playoffs (compared to the regular season).\n",
    "* Who makes it to the playoffs? Teams with better performing Centers? Forwards Guards? Younger teams?\n",
    "\n",
    "### Getting the data\n",
    "\n",
    "* The yearly data on all players for the regular season year `20XX` is found at the url:\n",
    "```\n",
    "https://www.basketball-reference.com/leagues/NBA_20XX_totals.html\n",
    "```\n",
    "* The yearly playoff data on all players in the playoffs for the year `20XX` is found at the url:\n",
    "```\n",
    "https://www.basketball-reference.com/playoffs/NBA_20XX_totals.html\n",
    "```\n",
    "\n",
    "Use `pd.read_html` to get data from 2012-2018, combine it into a single (cleaned) dataframe, and save it to a local file (so you are not repeatedly requesting data from the url). Be sure to keep track of which year each row came from!\n",
    "\n",
    "### Combining playoff and regular season data; cleaning the data; doing descriptive statistics\n",
    "\n",
    "* For each year, join the regular season data and playoff data for each player. This is tricky, as players are sometimes traded mid-season and will occupy more than one row in a given year.\n",
    "* Clean the data, create useful new columns, and handle null values appropriately.\n",
    "* Assess the data through univariate and bivariate analysis. Consider attributions to aggregrate by as well; analyze the aggregates.\n",
    "\n",
    "### Missingness\n",
    "\n",
    "Since each dataset (regular season and playoffs) separately has no \"unpredictable\" missing values, missingness will solely reflect whether a player was present in the playoffs or not. Consider the missingness in a column from the playoffs table and assess its missingness dependent on columns in the regular-season table.\n",
    "\n",
    "### Hypothesis Test\n",
    "\n",
    "Find a hypothesis test to perform. You can use the questions at the top of the notebook for inspiration.\n"
   ]
  },
  {
   "cell_type": "markdown",
   "metadata": {},
   "source": [
    "---\n",
    "# Summary of Findings\n",
    "\n",
    "\n",
    "## Introduction\n",
    "---\n",
    "What interests me most about this dataset is how basketball as a sport might be changing over the years.  That is to say, how do team dynamics change across years, and how does this differ when teams enter into the post season?  Specifically, I was interested to see how points scored are distributed across a team.  One strategy that a team might employ would be to have one central star who scores a large portion of the team's points.  Another strategy would be to have a more balanced team composition and to have the team's points be spread more equally across the team.\n",
    "\n",
    "\n",
    "\n",
    "\n",
    "\n",
    "### Results of Cleaning and EDA:\n",
    "---\n",
    "When cleaning the dataset, I didn't really have to do much.  Most values of the dataset were originally strings, so I needed to simply go through and convert all columns containing numerical values to be floats.  Then, due to how I combined the datasets, there exist many null values for years when players did not play in the league.  To avaoid these values, I looked at individual seasons and removed all rows for players which have no data for the year (because they did not play in the NBA).\n",
    "\n",
    "As a measure of how well points are spread across a team, I chose to look at the variance of points scored per minute of playtime across each team.  But why points per minute, and why variance? That latter is easiest explained, as a team whose players share the points more equally will have a smaller variance in points scored. Alternatively, a team with high variance is more likely to have an unequal distribution in points betweenn players (i.e. a couple of players are doing the majority of a team's scoring).  I looked at points scored per minute of playtime as this has a one main advantage over simply the numbber of poinnts scored. If a player gets injured or transfered during a season, or if they simply do not get much playing time, naturally they will not have scored more points for the team than other members.  In looking at points scored per minute we therefore look at how a team utilizes their players when on the court.  If a team has one star point scorer he will likely have a higher value for points scored per minute than the rest of his team.  This can still be seen if a player is ijured or traded, as what matters is how the team interacted while that player was on the court for the team.\n",
    "    \n",
    "Looking at the average standard deviation of points scored per minute across each team, I saw an general increase in variance as years progressed. For the regular season, the average variance raised from 0.015129 to 0.034344, strictly looking at the change from 2012 to 2018. For the playoffs, we see a similar change, this time growing from 2012's 0.026232 to 2018's 0.048238. \n",
    "\n",
    "\n",
    "### Results of Missingness:\n",
    "---\n",
    "\n",
    "If a player is missing in the playoffs (i.e. not playing), he is most likely on a team which did not make the cutoff to be in the playoffs. Therefore, before I ran any tests I predicted that a player's missingness in the playoffs is MAR dependent on the team that he plays for. I ran out of time and could not complete the testing, but this is likely not a good choice for statistic, as I do not believe a KS test can work with distributions of string values.  A column that I do not think should influence one's chances of being in the playoffs is free throw percentage.  This is because most professional players should have a fairly high percentage, and further this is an aspect of ones game wich does not come up too often in a game.  A better choice for a statistic which influences one's chance of appearance in the playoffs is playing time.  Players who did not play much in the regular season will likely not see playing time in the post season, as they are not good enough to keep up with the rest of the competition.\n",
    "\n",
    "\n",
    "### Results of Hypothesis Test\n",
    "---\n",
    "The results of my initial data exploration would lead me to believe that teams have begun to shift playstyles in order to prioritize a single (or few) key player(s).  The natural question to ask then is whether or not doing this positively benefits a team's scoring ability.  Does having a greater variance in points scored per minute result in a greater number of total points for the team? To simplify things, I only looked at a single year (an arbitrary choice of 2015). This enables me to not have to deal with the same player playing on multiple teams at the same time (apart from mid-season transfers), as this would not make any sense as something that could physically happen.\n",
    "\n",
    "---\n",
    "Null Hypothesis: Teams who have a greater variance in points per minute score roughly the same ammount of points as teams with a lower variance.\n",
    "\n",
    "Alternative Hypothesis: Teams with a greater variance in points per minute score higher than the teams with a lower variance.\n",
    "\n",
    "Test Statistic: KS statistic between the distribution of a team's scoring and their variance of points per minute.\n",
    "\n",
    "Significance Level: 0.05\n",
    "\n",
    "pvalue = 0.824\n",
    "\n",
    "---\n",
    "Okay, so what happened here? First, there exists the highly likely possibility that points scored is not strongly correlated to variance in points scored per minute of playtime. However, I think another factor may have contributed to this pvalue.  The KS test works best when one has many points of data. When generating its statistic, the test only had 30 data points for both the total number of points scored by a team and the variance of a team's points per minute played.\n",
    "\n",
    "---"
   ]
  },
  {
   "cell_type": "markdown",
   "metadata": {},
   "source": [
    "# Your Code Starts Here"
   ]
  },
  {
   "cell_type": "code",
   "execution_count": 3,
   "metadata": {},
   "outputs": [],
   "source": [
    "%matplotlib inline\n",
    "import os\n",
    "\n",
    "import pandas as pd\n",
    "import numpy as np\n",
    "from scipy.stats import ks_2samp\n",
    "\n",
    "import matplotlib.pyplot as plot\n",
    "import seaborn as sns"
   ]
  },
  {
   "cell_type": "code",
   "execution_count": null,
   "metadata": {},
   "outputs": [],
   "source": []
  },
  {
   "cell_type": "code",
   "execution_count": null,
   "metadata": {},
   "outputs": [],
   "source": []
  },
  {
   "cell_type": "markdown",
   "metadata": {},
   "source": [
    "### Cleaning and EDA:\n",
    "---"
   ]
  },
  {
   "cell_type": "code",
   "execution_count": 4,
   "metadata": {},
   "outputs": [
    {
     "name": "stderr",
     "output_type": "stream",
     "text": [
      "/Users/nateroberts/anaconda3/lib/python3.7/site-packages/ipykernel_launcher.py:11: FutureWarning: Sorting because non-concatenation axis is not aligned. A future version\n",
      "of pandas will change to not sort by default.\n",
      "\n",
      "To accept the future behavior, pass 'sort=False'.\n",
      "\n",
      "To retain the current behavior and silence the warning, pass 'sort=True'.\n",
      "\n",
      "  # This is added back by InteractiveShellApp.init_path()\n",
      "/Users/nateroberts/anaconda3/lib/python3.7/site-packages/ipykernel_launcher.py:16: FutureWarning: Sorting because non-concatenation axis is not aligned. A future version\n",
      "of pandas will change to not sort by default.\n",
      "\n",
      "To accept the future behavior, pass 'sort=False'.\n",
      "\n",
      "To retain the current behavior and silence the warning, pass 'sort=True'.\n",
      "\n",
      "  app.launch_new_instance()\n",
      "/Users/nateroberts/anaconda3/lib/python3.7/site-packages/ipykernel_launcher.py:21: FutureWarning: Sorting because non-concatenation axis is not aligned. A future version\n",
      "of pandas will change to not sort by default.\n",
      "\n",
      "To accept the future behavior, pass 'sort=False'.\n",
      "\n",
      "To retain the current behavior and silence the warning, pass 'sort=True'.\n",
      "\n"
     ]
    }
   ],
   "source": [
    "#loading in the tables\n",
    "df = pd.DataFrame(pd.read_html(\"https://www.basketball-reference.com/leagues/NBA_2012_totals.html\")\\\n",
    "                  [0]).drop(['Rk'], axis=1)\n",
    "df.columns = [df.columns[0]] + [str(x) + '_2012_rs' for x in df.columns[1:]]\n",
    "\n",
    "po = pd.DataFrame(pd.read_html(\"https://www.basketball-reference.com/playoffs/NBA_2012_totals.html\")\\\n",
    "                  [0]).drop(['Rk'], axis=1)\n",
    "po.columns = [po.columns[0]] + [str(x) + '_2012_po' for x in po.columns[1:]]\n",
    "\n",
    "\n",
    "df = pd.concat([df,po])\n",
    "for i in range(2013, 2019):\n",
    "    rs = pd.DataFrame(pd.read_html(\"https://www.basketball-reference.com/leagues/NBA_\" + str(i) +\\\n",
    "                                   \"_totals.html\")[0]).drop(['Rk'], axis = 1)\n",
    "    rs.columns = [rs.columns[0]] + [str(x) + '_' + str(i) + '_rs' for x in rs.columns[1:]]\n",
    "    df = pd.concat([df,rs])\n",
    "    \n",
    "    po = pd.DataFrame(pd.read_html(\"https://www.basketball-reference.com/playoffs/NBA_\" + str(i) + \\\n",
    "                                   \"_totals.html\")[0]).drop(['Rk'], axis = 1)\n",
    "    po.columns = [po.columns[0]] + [str(x) + '_' + str(i) + '_po' for x in po.columns[1:]]\n",
    "    df = pd.concat([df,po])\n",
    "\n",
    "#dropping unnecessary rows and converting columns to correct types\n",
    "df = df[df['Player'] != 'Player']\n",
    "df = df.set_index('Player')\n",
    "for col in df.columns:\n",
    "    string = ('Pos' in col) | ('Tm' in col)\n",
    "    if (not string):\n",
    "        df[col] = df[col].astype(float)     "
   ]
  },
  {
   "cell_type": "code",
   "execution_count": 36,
   "metadata": {},
   "outputs": [],
   "source": [
    "#returns a dataframe for a given year and whether or not it is the playoffs or regular season\n",
    "def spec_time(df, year, season='both'):\n",
    "    df = df.filter(like=str(year))\n",
    "    if (season == 'both'):\n",
    "        df = df[~df['Tm_' + str(year) + '_rs'].isnull()]\n",
    "        return df\n",
    "    \n",
    "    df = df.filter(like = str(season))\n",
    "    \n",
    "    len_suff = len('_20XX_xx')\n",
    "    df.columns = [x[:-len_suff] for x in df.columns]\n",
    "    \n",
    "    #only looking at players who were on a team (i.e. playing) that year\n",
    "    df = df[~df['Tm'].isnull()]\n",
    "    return df\n",
    "\n",
    "def conv_to_sd(ser):\n",
    "    mn = np.mean(ser)\n",
    "    return (ser - mn) / np.std(ser)\n",
    "\n",
    "#calculates the variance of points per minute for a dataframe\n",
    "def calc_ppm_var(yr):\n",
    "    square = 2\n",
    "    var = lambda x: np.std(x) ** square\n",
    "    yr['PPM'] = yr['PTS'] / yr['MP']\n",
    "    piv = yr.pivot_table(index='Tm', values='PPM', aggfunc=np.std)\n",
    "    \n",
    "    #if a player played on multiple teams in a season, they get entered in under team 'TOT'\n",
    "    try:\n",
    "        piv = piv.drop(labels='TOT')\n",
    "    except KeyError:\n",
    "        return piv['PPM']\n",
    "    \n",
    "    return piv['PPM']"
   ]
  },
  {
   "cell_type": "markdown",
   "metadata": {},
   "source": [
    "Below I generate a plot for the mean variance in points per minute across each team for the regular season: "
   ]
  },
  {
   "cell_type": "code",
   "execution_count": 37,
   "metadata": {},
   "outputs": [
    {
     "data": {
      "text/plain": [
       "[<matplotlib.lines.Line2D at 0x1a2073cac8>]"
      ]
     },
     "execution_count": 37,
     "metadata": {},
     "output_type": "execute_result"
    },
    {
     "data": {
      "image/png": "[encoded data removed]",
      "text/plain": [
       "<Figure size 432x288 with 1 Axes>"
      ]
     },
     "metadata": {
      "needs_background": "light"
     },
     "output_type": "display_data"
    }
   ],
   "source": [
    "spread_team_points_rs = []\n",
    "for year in range(2012, 2019):\n",
    "    #looking just at the data from the year for the regular season (rs)\n",
    "    yr = spec_time(df, year, 'po')\n",
    "    \n",
    "    #getting variance in points per minute\n",
    "    yr_ppm_var = calc_ppm_var(yr)\n",
    "     \n",
    "    spread_team_points_rs.append(np.mean(yr_ppm_var))\n",
    "\n",
    "spread_team_points_rs = pd.Series(spread_team_points_rs, index=range(2012,2019))\n",
    "plot.plot(spread_team_points_rs)"
   ]
  },
  {
   "cell_type": "markdown",
   "metadata": {},
   "source": [
    "Now, just looking at the change between 2012 and 2018:"
   ]
  },
  {
   "cell_type": "code",
   "execution_count": 278,
   "metadata": {},
   "outputs": [
    {
     "name": "stdout",
     "output_type": "stream",
     "text": [
      "2012    0.015129\n",
      "2018    0.034344\n",
      "dtype: float64\n"
     ]
    },
    {
     "data": {
      "text/plain": [
       "<BarContainer object of 2 artists>"
      ]
     },
     "execution_count": 278,
     "metadata": {},
     "output_type": "execute_result"
    },
    {
     "data": {
      "image/png": "[encoded data removed]",
      "text/plain": [
       "<Figure size 432x288 with 1 Axes>"
      ]
     },
     "metadata": {
      "needs_background": "light"
     },
     "output_type": "display_data"
    }
   ],
   "source": [
    "tw_vs_ei = [spread_team_points_rs[2012], spread_team_points_rs[2018]]\n",
    "tw_vs_ei = pd.Series(tw_vs_ei, index=[2012, 2018])\n",
    "print(tw_vs_ei)\n",
    "plot.bar(height=tw_vs_ei, x=tw_vs_ei.index)"
   ]
  },
  {
   "cell_type": "markdown",
   "metadata": {},
   "source": [
    "Below I generate a plot for the mean variance in points per minute across each team for the playoffs: "
   ]
  },
  {
   "cell_type": "code",
   "execution_count": 279,
   "metadata": {},
   "outputs": [
    {
     "data": {
      "text/plain": [
       "[<matplotlib.lines.Line2D at 0x1a287b2198>]"
      ]
     },
     "execution_count": 279,
     "metadata": {},
     "output_type": "execute_result"
    },
    {
     "data": {
      "image/png": "[encoded data removed]",
      "text/plain": [
       "<Figure size 432x288 with 1 Axes>"
      ]
     },
     "metadata": {
      "needs_background": "light"
     },
     "output_type": "display_data"
    }
   ],
   "source": [
    "spread_team_points_po = []\n",
    "for year in range(2012, 2019):\n",
    "    #looking just at the data from the year for the regular season (rs)\n",
    "    yr = spec_time(df, year, 'po')\n",
    "    \n",
    "    #getting variance in points per minute\n",
    "    yr_ppm_var = calc_ppm_var(yr)\n",
    "     \n",
    "    spread_team_points_po.append(np.mean(yr_ppm_var))\n",
    "\n",
    "spread_team_points_po = pd.Series(spread_team_points_po, index=range(2012,2019))\n",
    "plot.plot(spread_team_points_po)"
   ]
  },
  {
   "cell_type": "markdown",
   "metadata": {},
   "source": [
    "Just looking at 2012 compared to 2018 again:"
   ]
  },
  {
   "cell_type": "code",
   "execution_count": 280,
   "metadata": {},
   "outputs": [
    {
     "name": "stdout",
     "output_type": "stream",
     "text": [
      "2012    0.026232\n",
      "2018    0.048238\n",
      "dtype: float64\n"
     ]
    },
    {
     "data": {
      "text/plain": [
       "<BarContainer object of 2 artists>"
      ]
     },
     "execution_count": 280,
     "metadata": {},
     "output_type": "execute_result"
    },
    {
     "data": {
      "image/png": "[encoded data removed]",
      "text/plain": [
       "<Figure size 432x288 with 1 Axes>"
      ]
     },
     "metadata": {
      "needs_background": "light"
     },
     "output_type": "display_data"
    }
   ],
   "source": [
    "tw_vs_ei_po = [spread_team_points_po[2012], spread_team_points_po[2018]]\n",
    "tw_vs_ei_po = pd.Series(tw_vs_ei_po, index=[2012, 2018])\n",
    "print(tw_vs_ei_po)\n",
    "plot.bar(height=tw_vs_ei_po, x=tw_vs_ei_po.index)"
   ]
  },
  {
   "cell_type": "code",
   "execution_count": null,
   "metadata": {},
   "outputs": [],
   "source": []
  },
  {
   "cell_type": "markdown",
   "metadata": {},
   "source": [
    "### Missingness:\n",
    "---\n",
    "\n",
    "It is evident that I ran out of time. Next project I will start sooner :)"
   ]
  },
  {
   "cell_type": "code",
   "execution_count": 292,
   "metadata": {},
   "outputs": [],
   "source": [
    "def kstat(vals):\n",
    "    #a boolean series for whether or not a player is in the playoffs\n",
    "    not_pres = vals[vals.filter(like='po').columns[0]].isnull()\n",
    "    pres = ~not_pres\n",
    "    \n",
    "    #of all players (which is why I look at the regular season), creating\n",
    "    #two series of which teams they are on\n",
    "    reg = vals.filter(like='rs').filter(like='MP')\n",
    "    n_pres = reg[not_pres][reg.columns[0]]\n",
    "    y_pres = reg[pres][reg.columns[0]]\n",
    "    \n",
    "    return ks_2samp(n_pres, y_pres)"
   ]
  },
  {
   "cell_type": "code",
   "execution_count": null,
   "metadata": {},
   "outputs": [],
   "source": []
  },
  {
   "cell_type": "code",
   "execution_count": null,
   "metadata": {},
   "outputs": [],
   "source": []
  },
  {
   "cell_type": "markdown",
   "metadata": {},
   "source": [
    "### Hypothesis Test\n",
    "---"
   ]
  },
  {
   "cell_type": "code",
   "execution_count": 281,
   "metadata": {},
   "outputs": [],
   "source": [
    "def test_stat(df):\n",
    "    ppm_var = calc_ppm_var(df)\n",
    "    \n",
    "    pt_piv = df.pivot_table(index='Tm', values='PTS', aggfunc=sum)\n",
    "    tot_points = pt_piv['PTS']\n",
    "    \n",
    "    ks_2samp(ppm_var, tot_points)\n",
    "    return ppm_var"
   ]
  },
  {
   "cell_type": "code",
   "execution_count": 284,
   "metadata": {},
   "outputs": [],
   "source": [
    "def calc_p(df):\n",
    "    cp = df.copy()\n",
    "    prop_index = cp.index\n",
    "    observed = test_stat(cp)\n",
    "    total = 0\n",
    "    numtest = 1000\n",
    "    \n",
    "    for i in range(numtest):\n",
    "        shuffled_teams = cp['Tm'].sample(replace=False, frac=1).reset_index(drop=True)\n",
    "        shuffled_teams.index = prop_index\n",
    "        cp['Tm'] = shuffled_teams\n",
    "        test = test_stat(cp)\n",
    "        if (test[0] >= observed[0]):\n",
    "            total += 1\n",
    "        \n",
    "    return total / numtest"
   ]
  },
  {
   "cell_type": "code",
   "execution_count": 285,
   "metadata": {},
   "outputs": [
    {
     "data": {
      "text/plain": [
       "0.824"
      ]
     },
     "execution_count": 285,
     "metadata": {},
     "output_type": "execute_result"
    }
   ],
   "source": [
    "test_on = spec_time(df, 2015, 'rs')\n",
    "pval = calc_p(test_on)\n",
    "pval"
   ]
  },
  {
   "cell_type": "code",
   "execution_count": null,
   "metadata": {},
   "outputs": [],
   "source": []
  }
 ],
 "metadata": {
  "kernelspec": {
   "display_name": "Python 3",
   "language": "python",
   "name": "python3"
  },
  "language_info": {
   "codemirror_mode": {
    "name": "ipython",
    "version": 3
   },
   "file_extension": ".py",
   "mimetype": "text/x-python",
   "name": "python",
   "nbconvert_exporter": "python",
   "pygments_lexer": "ipython3",
   "version": "3.7.1"
  }
 },
 "nbformat": 4,
 "nbformat_minor": 2
}
